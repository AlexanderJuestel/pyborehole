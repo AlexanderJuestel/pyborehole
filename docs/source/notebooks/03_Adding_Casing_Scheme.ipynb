{
 "cells": [
  {
   "cell_type": "markdown",
   "id": "7fec0d86-8591-4c2c-9737-167eb3a4b9e1",
   "metadata": {},
   "source": [
    "# 03 Adding Casing Scheme to Borehole\n",
    "\n",
    "In this third tutorial, you will learn how to create a casing scheme for a vertical borehole by adding pipes and cements to the well design. The implementation was inspired by the code by Rahmat Ashari and his wellArchitectureDesign repository at https://github.com/fraclad/wellArchitectureDesign. \n",
    "\n",
    "<div class=\"alert alert-block alert-success\">\n",
    "<b>In this tutorial, you will learn the following:</b> <br>\n",
    "- How to add pipes to the well design <br>\n",
    "- How to add cements to the casing design <br>\n",
    "- How to plot well design<br>\n",
    "\n",
    "</div>\n",
    "\n",
    "## Contents\n",
    "1. [Importing Libraries](#importing_libraries)\n",
    "2. [Creating a new Borehole object](#creating_borehole_object)\n",
    "3. [Adding Well Design](#adding_well_design)\n",
    "4. [Adding Pipes](#adding_pipes)\n",
    "5. [Adding Cements](#adding_cements)\n",
    "6. [Plotting Well Design](#plotting_well_design)"
   ]
  },
  {
   "cell_type": "markdown",
   "id": "0b15071d-1fc1-4773-a4f7-239fc39ed9ef",
   "metadata": {},
   "source": [
    "<a id='importing_libraries'></a>\n",
    "## Importing Libraries\n",
    "First, we import the `pyborehole` package and check out the version that is installed. For convenience, we are importing the `Borehole` class from the `borehole` module using `from pyborehole.borehole import Borehole`. "
   ]
  },
  {
   "cell_type": "code",
   "execution_count": 1,
   "id": "807fc10d-fcc0-4090-8d57-fb0016d344a9",
   "metadata": {},
   "outputs": [
    {
     "name": "stderr",
     "output_type": "stream",
     "text": [
      "C:\\Users\\ale93371\\Anaconda3\\envs\\pygeomechanical\\lib\\site-packages\\numpy\\_distributor_init.py:30: UserWarning: loaded more than 1 DLL from .libs:\n",
      "C:\\Users\\ale93371\\Anaconda3\\envs\\pygeomechanical\\lib\\site-packages\\numpy\\.libs\\libopenblas.FB5AE2TYXYH2IJRDKGDGQ3XBKLKTF43H.gfortran-win_amd64.dll\n",
      "C:\\Users\\ale93371\\Anaconda3\\envs\\pygeomechanical\\lib\\site-packages\\numpy\\.libs\\libopenblas64__v0.3.23-246-g3d31191b-gcc_10_3_0.dll\n",
      "  warnings.warn(\"loaded more than 1 DLL from .libs:\"\n"
     ]
    },
    {
     "data": {
      "text/plain": [
       "'v0.0.post18'"
      ]
     },
     "execution_count": 1,
     "metadata": {},
     "output_type": "execute_result"
    }
   ],
   "source": [
    "import pyborehole\n",
    "from pyborehole.borehole import Borehole\n",
    "pyborehole.__version__"
   ]
  },
  {
   "cell_type": "code",
   "execution_count": 2,
   "id": "dd0c7fd6-6b3a-4864-b28e-b8e7c565bc8d",
   "metadata": {},
   "outputs": [],
   "source": [
    "\n",
    "from pyborehole.well_design import Pipe"
   ]
  },
  {
   "cell_type": "markdown",
   "id": "7a9ef48a-3287-4ea1-8c86-505d9233c2ef",
   "metadata": {},
   "source": [
    "<a id='creating_borehole_object'></a>\n",
    "## Creating a new Borehole object\n",
    "\n",
    "A new `Borehole` object can be initiated by providing the name of the borehole. The name of the borehole can also be accessed as attribute"
   ]
  },
  {
   "cell_type": "code",
   "execution_count": 3,
   "id": "57f7fa0f-128e-42b3-89e3-34cea19ffb85",
   "metadata": {},
   "outputs": [
    {
     "data": {
      "text/plain": [
       "Borehole: RWE EB1"
      ]
     },
     "execution_count": 3,
     "metadata": {},
     "output_type": "execute_result"
    }
   ],
   "source": [
    "borehole = Borehole(name='RWE EB1')\n",
    "borehole"
   ]
  },
  {
   "cell_type": "markdown",
   "id": "76cb0c44-0a39-45f5-8d9a-0d610a5cdb16",
   "metadata": {},
   "source": [
    "<a id='adding_well_design'></a>\n",
    "\n",
    "## Adding Well Design\n",
    "\n",
    "A new well design is added using `borehole.add_well_design()`. This will initiate an empty `well_design` object."
   ]
  },
  {
   "cell_type": "code",
   "execution_count": 4,
   "id": "ab0f9953-0242-4801-b481-8bc9aec7f5d0",
   "metadata": {},
   "outputs": [],
   "source": [
    "borehole.add_well_design()"
   ]
  },
  {
   "cell_type": "code",
   "execution_count": 5,
   "id": "dc7c421b-94b6-4574-b8ba-b9830ba4e7c7",
   "metadata": {},
   "outputs": [
    {
     "data": {
      "text/plain": [
       "Pipes: {} \n",
       "Cements: {}"
      ]
     },
     "execution_count": 5,
     "metadata": {},
     "output_type": "execute_result"
    }
   ],
   "source": [
    "borehole.well_design"
   ]
  },
  {
   "cell_type": "markdown",
   "id": "db795689-4353-4e93-b356-a4057ee27fb2",
   "metadata": {},
   "source": [
    "<a id='adding_pipes'></a>\n",
    "\n",
    "## Adding Pipes\n",
    "\n",
    "The function `add_pipe` of the `well_design` object allows for adding a new pipe. The pipes dict can be inspected using `borehole.well_design.pipes`."
   ]
  },
  {
   "cell_type": "code",
   "execution_count": 6,
   "id": "927b1396-9ce3-4859-83d1-cbe9084ea0df",
   "metadata": {},
   "outputs": [],
   "source": [
    "borehole.well_design.add_pipe(name='Conductor Casing', \n",
    "                              pipe_type='conductor casing', \n",
    "                              top=0, \n",
    "                              bottom=-35, \n",
    "                              depth_unit='m', \n",
    "                              inner_diameter=20, \n",
    "                              outer_diameter=21, \n",
    "                              diameter_unit='in',\n",
    "                              shoe_height=3,\n",
    "                              shoe_width=3,\n",
    "                              shoe_unit='in')"
   ]
  },
  {
   "cell_type": "code",
   "execution_count": 7,
   "id": "c22e05a2-7504-40ba-96b1-d1896d749e32",
   "metadata": {},
   "outputs": [],
   "source": [
    "borehole.well_design.add_pipe(name='Surface Casing', \n",
    "                              pipe_type='surface casing', \n",
    "                              top=-15, \n",
    "                              bottom=-100, \n",
    "                              depth_unit='m', \n",
    "                              inner_diameter=16, \n",
    "                              outer_diameter=17, \n",
    "                              diameter_unit='in',\n",
    "                              shoe_height=3,\n",
    "                              shoe_width=3,\n",
    "                              shoe_unit='in')"
   ]
  },
  {
   "cell_type": "code",
   "execution_count": 8,
   "id": "0e1d95e3-552a-4a81-bd2e-6831da9219a0",
   "metadata": {},
   "outputs": [],
   "source": [
    "borehole.well_design.add_pipe(name='Production Casing', \n",
    "                              pipe_type='production casing', \n",
    "                              top=-50, \n",
    "                              bottom=-400, \n",
    "                              depth_unit='m', \n",
    "                              inner_diameter=12, \n",
    "                              outer_diameter=13, \n",
    "                              diameter_unit='in',\n",
    "                              shoe_height=3,\n",
    "                              shoe_width=3,\n",
    "                              shoe_unit='in')"
   ]
  },
  {
   "cell_type": "code",
   "execution_count": 9,
   "id": "2543ab88-44f0-4296-96cc-65edae0312bf",
   "metadata": {},
   "outputs": [],
   "source": [
    "borehole.well_design.add_pipe(name='Production Liner', \n",
    "                              pipe_type='production liner', \n",
    "                              top=-200, \n",
    "                              bottom=-500, \n",
    "                              depth_unit='m', \n",
    "                              inner_diameter=8.5, \n",
    "                              outer_diameter=9, \n",
    "                              diameter_unit='in',\n",
    "                              shoe_height=3,\n",
    "                              shoe_width=3,\n",
    "                              shoe_unit='in')"
   ]
  },
  {
   "cell_type": "code",
   "execution_count": 10,
   "id": "bf2fd662-7057-42df-8a16-2d1f28242ff6",
   "metadata": {},
   "outputs": [],
   "source": [
    "borehole.well_design.add_pipe(name='Open Hole Section', \n",
    "                              pipe_type='open hole section', \n",
    "                              top=-500, \n",
    "                              bottom=-600, \n",
    "                              depth_unit='m', \n",
    "                              inner_diameter=8.5, \n",
    "                              outer_diameter=8.5, \n",
    "                              diameter_unit='in')"
   ]
  },
  {
   "cell_type": "code",
   "execution_count": 11,
   "id": "e8a8046d-09cc-4873-bb94-b4ef52d452fe",
   "metadata": {},
   "outputs": [
    {
     "data": {
      "text/plain": [
       "{'Conductor Casing': Type: conductor casing \n",
       " Top: 0 m \n",
       " Bottom: -35 m \n",
       " Inner Diameter: 20 in \n",
       " Outer Diameter: 21 in,\n",
       " 'Surface Casing': Type: surface casing \n",
       " Top: -15 m \n",
       " Bottom: -100 m \n",
       " Inner Diameter: 16 in \n",
       " Outer Diameter: 17 in,\n",
       " 'Production Casing': Type: production casing \n",
       " Top: -50 m \n",
       " Bottom: -400 m \n",
       " Inner Diameter: 12 in \n",
       " Outer Diameter: 13 in,\n",
       " 'Production Liner': Type: production liner \n",
       " Top: -200 m \n",
       " Bottom: -500 m \n",
       " Inner Diameter: 8.5 in \n",
       " Outer Diameter: 9 in,\n",
       " 'Open Hole Section': Type: open hole section \n",
       " Top: -500 m \n",
       " Bottom: -600 m \n",
       " Inner Diameter: 8.5 in \n",
       " Outer Diameter: 8.5 in}"
      ]
     },
     "execution_count": 11,
     "metadata": {},
     "output_type": "execute_result"
    }
   ],
   "source": [
    "borehole.well_design.pipes"
   ]
  },
  {
   "cell_type": "markdown",
   "id": "002fd037-0773-4599-9ef1-d271d1cdd4ee",
   "metadata": {},
   "source": [
    "<a id='adding_cements'></a>\n",
    "\n",
    "## Adding Cements\n",
    "\n",
    "The function `add_cement` of the `well_design` object allows for adding a new cement. The cements dict can be inspected using `borehole.well_design.cements`."
   ]
  },
  {
   "cell_type": "code",
   "execution_count": 12,
   "id": "8444f68f-9dd0-4bdb-acf5-dfa8ccd7751d",
   "metadata": {},
   "outputs": [],
   "source": [
    "borehole.well_design.add_cement(name='Cement 1',\n",
    "                                top=-200,\n",
    "                                bottom=-500,\n",
    "                                pipe_inner='Production Liner',\n",
    "                                pipe_outer='Production Casing',\n",
    "                                depth_unit='m')"
   ]
  },
  {
   "cell_type": "code",
   "execution_count": 13,
   "id": "9d7cd5dd-cc5a-4f16-9745-183155088465",
   "metadata": {},
   "outputs": [],
   "source": [
    "borehole.well_design.add_cement(name='Cement 2',\n",
    "                                top=-50,\n",
    "                                bottom=-400,\n",
    "                                pipe_inner='Production Casing',\n",
    "                                pipe_outer='Surface Casing',\n",
    "                                depth_unit='m')"
   ]
  },
  {
   "cell_type": "code",
   "execution_count": 14,
   "id": "c96fea3a-7791-498d-a30f-47c7c4d8a201",
   "metadata": {},
   "outputs": [],
   "source": [
    "borehole.well_design.add_cement(name='Cement 3',\n",
    "                                top=-15,\n",
    "                                bottom=-100,\n",
    "                                pipe_inner='Surface Casing',\n",
    "                                pipe_outer='Conductor Casing',\n",
    "                                depth_unit='m')"
   ]
  },
  {
   "cell_type": "code",
   "execution_count": 15,
   "id": "5198d085-ccdd-4e7e-85c1-b8deefac022d",
   "metadata": {},
   "outputs": [
    {
     "data": {
      "text/plain": [
       "{'Cement 1': Top: -200 m \n",
       " Bottom: -500 m \n",
       " Cement Thickness: 3 in  \n",
       " Inner Pipe: Production Liner \n",
       " Outer Pipe: Production Liner,\n",
       " 'Cement 2': Top: -50 m \n",
       " Bottom: -400 m \n",
       " Cement Thickness: 3 in  \n",
       " Inner Pipe: Production Casing \n",
       " Outer Pipe: Production Casing,\n",
       " 'Cement 3': Top: -15 m \n",
       " Bottom: -100 m \n",
       " Cement Thickness: 3 in  \n",
       " Inner Pipe: Surface Casing \n",
       " Outer Pipe: Surface Casing}"
      ]
     },
     "execution_count": 15,
     "metadata": {},
     "output_type": "execute_result"
    }
   ],
   "source": [
    "borehole.well_design.cements"
   ]
  },
  {
   "cell_type": "code",
   "execution_count": 16,
   "id": "ba7faf60-614d-4fa6-83e9-6d060be4056e",
   "metadata": {},
   "outputs": [
    {
     "data": {
      "text/plain": [
       "Pipes: {'Conductor Casing': Type: conductor casing \n",
       "Top: 0 m \n",
       "Bottom: -35 m \n",
       "Inner Diameter: 20 in \n",
       "Outer Diameter: 21 in, 'Surface Casing': Type: surface casing \n",
       "Top: -15 m \n",
       "Bottom: -100 m \n",
       "Inner Diameter: 16 in \n",
       "Outer Diameter: 17 in, 'Production Casing': Type: production casing \n",
       "Top: -50 m \n",
       "Bottom: -400 m \n",
       "Inner Diameter: 12 in \n",
       "Outer Diameter: 13 in, 'Production Liner': Type: production liner \n",
       "Top: -200 m \n",
       "Bottom: -500 m \n",
       "Inner Diameter: 8.5 in \n",
       "Outer Diameter: 9 in, 'Open Hole Section': Type: open hole section \n",
       "Top: -500 m \n",
       "Bottom: -600 m \n",
       "Inner Diameter: 8.5 in \n",
       "Outer Diameter: 8.5 in} \n",
       "Cements: {'Cement 1': Top: -200 m \n",
       "Bottom: -500 m \n",
       "Cement Thickness: 3 in  \n",
       "Inner Pipe: Production Liner \n",
       "Outer Pipe: Production Liner, 'Cement 2': Top: -50 m \n",
       "Bottom: -400 m \n",
       "Cement Thickness: 3 in  \n",
       "Inner Pipe: Production Casing \n",
       "Outer Pipe: Production Casing, 'Cement 3': Top: -15 m \n",
       "Bottom: -100 m \n",
       "Cement Thickness: 3 in  \n",
       "Inner Pipe: Surface Casing \n",
       "Outer Pipe: Surface Casing}"
      ]
     },
     "execution_count": 16,
     "metadata": {},
     "output_type": "execute_result"
    }
   ],
   "source": [
    "borehole.well_design"
   ]
  },
  {
   "cell_type": "markdown",
   "id": "04afb869-f114-4819-ab73-3c9787d06e5c",
   "metadata": {},
   "source": [
    "<a id='plotting_well_design'></a>\n",
    "## Plotting Well Design\n",
    "\n",
    "The entire well design can now be plotted using the `plot_well_design` function. "
   ]
  },
  {
   "cell_type": "code",
   "execution_count": 17,
   "id": "29c8d4b4-6667-47db-a5a5-97e967badd14",
   "metadata": {},
   "outputs": [
    {
     "name": "stdout",
     "output_type": "stream",
     "text": [
      "[9, 13, 17, 21]\n",
      "[8.5, 12, 16, 20]\n",
      "[3, 3, 3]\n"
     ]
    },
    {
     "data": {
      "image/png": "[encoded data removed]",
      "text/plain": [
       "<Figure size 600x900 with 1 Axes>"
      ]
     },
     "metadata": {},
     "output_type": "display_data"
    }
   ],
   "source": [
    "fig, ax = borehole.well_design.plot_well_design(show_pipes=True,\n",
    "                                                show_shoes=True,\n",
    "                                                show_cements=True,\n",
    "                                                show_descriptions=True)"
   ]
  },
  {
   "cell_type": "code",
   "execution_count": null,
   "id": "18a3b168-297b-4a48-a3cb-2416e0465f60",
   "metadata": {},
   "outputs": [],
   "source": []
  }
 ],
 "metadata": {
  "kernelspec": {
   "display_name": "Python 3 (ipykernel)",
   "language": "python",
   "name": "python3"
  },
  "language_info": {
   "codemirror_mode": {
    "name": "ipython",
    "version": 3
   },
   "file_extension": ".py",
   "mimetype": "text/x-python",
   "name": "python",
   "nbconvert_exporter": "python",
   "pygments_lexer": "ipython3",
   "version": "3.10.12"
  }
 },
 "nbformat": 4,
 "nbformat_minor": 5
}
